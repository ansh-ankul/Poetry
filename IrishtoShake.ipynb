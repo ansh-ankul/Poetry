{
  "nbformat": 4,
  "nbformat_minor": 0,
  "metadata": {
    "accelerator": "GPU",
    "colab": {
      "name": "Copy of C3_W4_Assignment_Solution.ipynb",
      "provenance": [],
      "collapsed_sections": [],
      "toc_visible": true
    },
    "kernelspec": {
      "name": "python3",
      "display_name": "Python 3"
    },
    "language_info": {
      "name": "python"
    }
  },
  "cells": [
    {
      "cell_type": "markdown",
      "metadata": {
        "id": "NeQByOlMmtn8"
      },
      "source": [
        "**Note:** This notebook can run using TensorFlow 2.5.0"
      ]
    },
    {
      "cell_type": "code",
      "metadata": {
        "id": "BOwsuGQQY9OL"
      },
      "source": [
        "from tensorflow.keras.preprocessing.sequence import pad_sequences\n",
        "from tensorflow.keras.layers import Embedding, LSTM, Dense, Dropout, Bidirectional\n",
        "from tensorflow.keras.preprocessing.text import Tokenizer\n",
        "from tensorflow.keras.models import Sequential\n",
        "from tensorflow.keras.optimizers import Adam\n",
        "from tensorflow.keras import regularizers\n",
        "import tensorflow.keras.utils as ku \n",
        "import numpy as np "
      ],
      "execution_count": null,
      "outputs": []
    },
    {
      "cell_type": "code",
      "metadata": {
        "id": "PRnDnCW-Z7qv",
        "outputId": "513c4baa-cc23-45ff-fcaa-fe2fc3651eab",
        "colab": {
          "base_uri": "https://localhost:8080/"
        }
      },
      "source": [
        "tokenizer = Tokenizer()\n",
        "\n",
        "# sonnets.txt\n",
        "!gdown --id 108jAePKK4R3BVYBbYJZ32JWUwxeMg20K\n",
        "\n",
        "data = open('./sonnets.txt').read()\n",
        "\n",
        "corpus = data.lower().split(\"\\n\")\n",
        "\n",
        "\n",
        "tokenizer.fit_on_texts(corpus)\n",
        "total_words = len(tokenizer.word_index) + 1\n",
        "\n",
        "# create input sequences using list of tokens\n",
        "input_sequences = []\n",
        "for line in corpus:\n",
        "\ttoken_list = tokenizer.texts_to_sequences([line])[0]\n",
        "\tfor i in range(1, len(token_list)):\n",
        "\t\tn_gram_sequence = token_list[:i+1]\n",
        "\t\tinput_sequences.append(n_gram_sequence)\n",
        "\n",
        "\n",
        "# pad sequences \n",
        "max_sequence_len = max([len(x) for x in input_sequences])\n",
        "input_sequences = np.array(pad_sequences(input_sequences, maxlen=max_sequence_len, padding='pre'))\n",
        "\n",
        "# create predictors and label\n",
        "predictors, label = input_sequences[:,:-1],input_sequences[:,-1]\n",
        "\n",
        "label = ku.to_categorical(label, num_classes=total_words)"
      ],
      "execution_count": null,
      "outputs": [
        {
          "output_type": "stream",
          "name": "stdout",
          "text": [
            "Downloading...\n",
            "From: https://drive.google.com/uc?id=108jAePKK4R3BVYBbYJZ32JWUwxeMg20K\n",
            "To: /content/sonnets.txt\n",
            "\r  0% 0.00/93.6k [00:00<?, ?B/s]\r100% 93.6k/93.6k [00:00<00:00, 72.4MB/s]\n"
          ]
        }
      ]
    },
    {
      "cell_type": "code",
      "metadata": {
        "id": "w9vH8Y59ajYL",
        "outputId": "af6ffa43-ccd5-4856-82dc-f0a2abb4beed",
        "colab": {
          "base_uri": "https://localhost:8080/"
        }
      },
      "source": [
        "### START CODE HERE\n",
        "model = Sequential()\n",
        "model.add(Embedding(total_words, 100, input_length=max_sequence_len-1))# Your Embedding Layer)\n",
        "model.add(Bidirectional(LSTM(150, return_sequences = True)))# An LSTM Layer)\n",
        "model.add(Dropout(0.2))# A dropout layer)\n",
        "model.add(LSTM(100))# Another LSTM Layer)\n",
        "model.add(Dense(total_words/2, activation='relu', kernel_regularizer=regularizers.l2(0.01)))# A Dense Layer including regularizers)\n",
        "model.add(Dense(total_words, activation='softmax'))# A Dense Layer)\n",
        "# Pick an optimizer\n",
        "model.compile(loss='categorical_crossentropy', optimizer='adam', metrics=['accuracy'])# Pick a loss function and an optimizer)\n",
        "### END CODE HERE\n",
        "\n",
        "print(model.summary())"
      ],
      "execution_count": null,
      "outputs": [
        {
          "output_type": "stream",
          "name": "stdout",
          "text": [
            "Model: \"sequential\"\n",
            "_________________________________________________________________\n",
            " Layer (type)                Output Shape              Param #   \n",
            "=================================================================\n",
            " embedding (Embedding)       (None, 10, 100)           321100    \n",
            "                                                                 \n",
            " bidirectional (Bidirectiona  (None, 10, 300)          301200    \n",
            " l)                                                              \n",
            "                                                                 \n",
            " dropout (Dropout)           (None, 10, 300)           0         \n",
            "                                                                 \n",
            " lstm_1 (LSTM)               (None, 100)               160400    \n",
            "                                                                 \n",
            " dense (Dense)               (None, 1605)              162105    \n",
            "                                                                 \n",
            " dense_1 (Dense)             (None, 3211)              5156866   \n",
            "                                                                 \n",
            "=================================================================\n",
            "Total params: 6,101,671\n",
            "Trainable params: 6,101,671\n",
            "Non-trainable params: 0\n",
            "_________________________________________________________________\n",
            "None\n"
          ]
        }
      ]
    },
    {
      "cell_type": "code",
      "metadata": {
        "id": "AIg2f1HBxqof",
        "outputId": "4d000f1a-f34c-4c73-86d5-5c7f01389ab1",
        "colab": {
          "base_uri": "https://localhost:8080/"
        }
      },
      "source": [
        " history = model.fit(predictors, label, epochs=100, verbose=1)"
      ],
      "execution_count": null,
      "outputs": [
        {
          "output_type": "stream",
          "name": "stdout",
          "text": [
            "Epoch 1/100\n",
            "484/484 [==============================] - 21s 25ms/step - loss: 6.9057 - accuracy: 0.0233\n",
            "Epoch 2/100\n",
            "484/484 [==============================] - 12s 26ms/step - loss: 6.4993 - accuracy: 0.0220\n",
            "Epoch 3/100\n",
            "484/484 [==============================] - 12s 26ms/step - loss: 6.3942 - accuracy: 0.0252\n",
            "Epoch 4/100\n",
            "484/484 [==============================] - 12s 26ms/step - loss: 6.2691 - accuracy: 0.0287\n",
            "Epoch 5/100\n",
            "484/484 [==============================] - 12s 25ms/step - loss: 6.1711 - accuracy: 0.0366\n",
            "Epoch 6/100\n",
            "484/484 [==============================] - 12s 25ms/step - loss: 6.0870 - accuracy: 0.0397\n",
            "Epoch 7/100\n",
            "484/484 [==============================] - 12s 25ms/step - loss: 6.0001 - accuracy: 0.0411\n",
            "Epoch 8/100\n",
            "484/484 [==============================] - 12s 25ms/step - loss: 5.9068 - accuracy: 0.0482\n",
            "Epoch 9/100\n",
            "484/484 [==============================] - 12s 26ms/step - loss: 5.8007 - accuracy: 0.0528\n",
            "Epoch 10/100\n",
            "484/484 [==============================] - 12s 25ms/step - loss: 5.6852 - accuracy: 0.0588\n",
            "Epoch 11/100\n",
            "484/484 [==============================] - 12s 26ms/step - loss: 5.5751 - accuracy: 0.0620\n",
            "Epoch 12/100\n",
            "484/484 [==============================] - 12s 26ms/step - loss: 5.4618 - accuracy: 0.0691\n",
            "Epoch 13/100\n",
            "484/484 [==============================] - 12s 25ms/step - loss: 5.3539 - accuracy: 0.0736\n",
            "Epoch 14/100\n",
            "484/484 [==============================] - 12s 26ms/step - loss: 5.2448 - accuracy: 0.0821\n",
            "Epoch 15/100\n",
            "484/484 [==============================] - 12s 25ms/step - loss: 5.1388 - accuracy: 0.0904\n",
            "Epoch 16/100\n",
            "484/484 [==============================] - 12s 26ms/step - loss: 5.0306 - accuracy: 0.0963\n",
            "Epoch 17/100\n",
            "484/484 [==============================] - 12s 26ms/step - loss: 4.9267 - accuracy: 0.1048\n",
            "Epoch 18/100\n",
            "484/484 [==============================] - 12s 26ms/step - loss: 4.8223 - accuracy: 0.1112\n",
            "Epoch 19/100\n",
            "484/484 [==============================] - 12s 25ms/step - loss: 4.7134 - accuracy: 0.1220\n",
            "Epoch 20/100\n",
            "484/484 [==============================] - 12s 26ms/step - loss: 4.6055 - accuracy: 0.1303\n",
            "Epoch 21/100\n",
            "484/484 [==============================] - 12s 26ms/step - loss: 4.4947 - accuracy: 0.1405\n",
            "Epoch 22/100\n",
            "484/484 [==============================] - 12s 25ms/step - loss: 4.3900 - accuracy: 0.1547\n",
            "Epoch 23/100\n",
            "484/484 [==============================] - 12s 25ms/step - loss: 4.2842 - accuracy: 0.1650\n",
            "Epoch 24/100\n",
            "484/484 [==============================] - 12s 25ms/step - loss: 4.1725 - accuracy: 0.1820\n",
            "Epoch 25/100\n",
            "484/484 [==============================] - 12s 25ms/step - loss: 4.0677 - accuracy: 0.1934\n",
            "Epoch 26/100\n",
            "484/484 [==============================] - 12s 25ms/step - loss: 3.9636 - accuracy: 0.2136\n",
            "Epoch 27/100\n",
            "484/484 [==============================] - 12s 25ms/step - loss: 3.8569 - accuracy: 0.2287\n",
            "Epoch 28/100\n",
            "484/484 [==============================] - 12s 25ms/step - loss: 3.7650 - accuracy: 0.2489\n",
            "Epoch 29/100\n",
            "484/484 [==============================] - 12s 25ms/step - loss: 3.6639 - accuracy: 0.2698\n",
            "Epoch 30/100\n",
            "484/484 [==============================] - 12s 25ms/step - loss: 3.5617 - accuracy: 0.2879\n",
            "Epoch 31/100\n",
            "484/484 [==============================] - 12s 25ms/step - loss: 3.4804 - accuracy: 0.3046\n",
            "Epoch 32/100\n",
            "484/484 [==============================] - 12s 25ms/step - loss: 3.3816 - accuracy: 0.3287\n",
            "Epoch 33/100\n",
            "484/484 [==============================] - 12s 25ms/step - loss: 3.3071 - accuracy: 0.3437\n",
            "Epoch 34/100\n",
            "484/484 [==============================] - 12s 25ms/step - loss: 3.2204 - accuracy: 0.3632\n",
            "Epoch 35/100\n",
            "484/484 [==============================] - 12s 25ms/step - loss: 3.1365 - accuracy: 0.3846\n",
            "Epoch 36/100\n",
            "484/484 [==============================] - 12s 25ms/step - loss: 3.0571 - accuracy: 0.4003\n",
            "Epoch 37/100\n",
            "484/484 [==============================] - 12s 24ms/step - loss: 2.9850 - accuracy: 0.4186\n",
            "Epoch 38/100\n",
            "484/484 [==============================] - 12s 24ms/step - loss: 2.9210 - accuracy: 0.4303\n",
            "Epoch 39/100\n",
            "484/484 [==============================] - 12s 24ms/step - loss: 2.8373 - accuracy: 0.4533\n",
            "Epoch 40/100\n",
            "484/484 [==============================] - 12s 24ms/step - loss: 2.7706 - accuracy: 0.4670\n",
            "Epoch 41/100\n",
            "484/484 [==============================] - 12s 25ms/step - loss: 2.7010 - accuracy: 0.4776\n",
            "Epoch 42/100\n",
            "484/484 [==============================] - 12s 25ms/step - loss: 2.6532 - accuracy: 0.4945\n",
            "Epoch 43/100\n",
            "484/484 [==============================] - 12s 24ms/step - loss: 2.5811 - accuracy: 0.5081\n",
            "Epoch 44/100\n",
            "484/484 [==============================] - 12s 24ms/step - loss: 2.5195 - accuracy: 0.5252\n",
            "Epoch 45/100\n",
            "484/484 [==============================] - 12s 24ms/step - loss: 2.4719 - accuracy: 0.5319\n",
            "Epoch 46/100\n",
            "484/484 [==============================] - 12s 25ms/step - loss: 2.4298 - accuracy: 0.5420\n",
            "Epoch 47/100\n",
            "484/484 [==============================] - 12s 25ms/step - loss: 2.3644 - accuracy: 0.5607\n",
            "Epoch 48/100\n",
            "484/484 [==============================] - 12s 24ms/step - loss: 2.3078 - accuracy: 0.5737\n",
            "Epoch 49/100\n",
            "484/484 [==============================] - 12s 24ms/step - loss: 2.2645 - accuracy: 0.5820\n",
            "Epoch 50/100\n",
            "484/484 [==============================] - 12s 24ms/step - loss: 2.2073 - accuracy: 0.5936\n",
            "Epoch 51/100\n",
            "484/484 [==============================] - 12s 24ms/step - loss: 2.1699 - accuracy: 0.6030\n",
            "Epoch 52/100\n",
            "484/484 [==============================] - 12s 24ms/step - loss: 2.1241 - accuracy: 0.6109\n",
            "Epoch 53/100\n",
            "484/484 [==============================] - 12s 24ms/step - loss: 2.0802 - accuracy: 0.6227\n",
            "Epoch 54/100\n",
            "484/484 [==============================] - 12s 24ms/step - loss: 2.0468 - accuracy: 0.6289\n",
            "Epoch 55/100\n",
            "484/484 [==============================] - 12s 25ms/step - loss: 2.0023 - accuracy: 0.6378\n",
            "Epoch 56/100\n",
            "484/484 [==============================] - 12s 24ms/step - loss: 1.9602 - accuracy: 0.6516\n",
            "Epoch 57/100\n",
            "484/484 [==============================] - 12s 24ms/step - loss: 1.9289 - accuracy: 0.6548\n",
            "Epoch 58/100\n",
            "484/484 [==============================] - 12s 24ms/step - loss: 1.8887 - accuracy: 0.6648\n",
            "Epoch 59/100\n",
            "484/484 [==============================] - 12s 24ms/step - loss: 1.8604 - accuracy: 0.6643\n",
            "Epoch 60/100\n",
            "484/484 [==============================] - 12s 24ms/step - loss: 1.8201 - accuracy: 0.6782\n",
            "Epoch 61/100\n",
            "484/484 [==============================] - 12s 25ms/step - loss: 1.8038 - accuracy: 0.6790\n",
            "Epoch 62/100\n",
            "484/484 [==============================] - 12s 24ms/step - loss: 1.7742 - accuracy: 0.6869\n",
            "Epoch 63/100\n",
            "484/484 [==============================] - 12s 24ms/step - loss: 1.7343 - accuracy: 0.6943\n",
            "Epoch 64/100\n",
            "484/484 [==============================] - 12s 24ms/step - loss: 1.7033 - accuracy: 0.7029\n",
            "Epoch 65/100\n",
            "484/484 [==============================] - 12s 24ms/step - loss: 1.6836 - accuracy: 0.7041\n",
            "Epoch 66/100\n",
            "484/484 [==============================] - 12s 24ms/step - loss: 1.6491 - accuracy: 0.7170\n",
            "Epoch 67/100\n",
            "484/484 [==============================] - 12s 24ms/step - loss: 1.6077 - accuracy: 0.7204\n",
            "Epoch 68/100\n",
            "484/484 [==============================] - 11s 24ms/step - loss: 1.6061 - accuracy: 0.7247\n",
            "Epoch 69/100\n",
            "484/484 [==============================] - 12s 24ms/step - loss: 1.5632 - accuracy: 0.7319\n",
            "Epoch 70/100\n",
            "484/484 [==============================] - 12s 24ms/step - loss: 1.5489 - accuracy: 0.7335\n",
            "Epoch 71/100\n",
            "484/484 [==============================] - 12s 24ms/step - loss: 1.5319 - accuracy: 0.7366\n",
            "Epoch 72/100\n",
            "484/484 [==============================] - 12s 24ms/step - loss: 1.4957 - accuracy: 0.7434\n",
            "Epoch 73/100\n",
            "484/484 [==============================] - 11s 23ms/step - loss: 1.4841 - accuracy: 0.7455\n",
            "Epoch 74/100\n",
            "484/484 [==============================] - 11s 23ms/step - loss: 1.4687 - accuracy: 0.7494\n",
            "Epoch 75/100\n",
            "484/484 [==============================] - 11s 24ms/step - loss: 1.4523 - accuracy: 0.7518\n",
            "Epoch 76/100\n",
            "484/484 [==============================] - 11s 24ms/step - loss: 1.4343 - accuracy: 0.7551\n",
            "Epoch 77/100\n",
            "484/484 [==============================] - 11s 24ms/step - loss: 1.4081 - accuracy: 0.7597\n",
            "Epoch 78/100\n",
            "484/484 [==============================] - 11s 24ms/step - loss: 1.3917 - accuracy: 0.7643\n",
            "Epoch 79/100\n",
            "484/484 [==============================] - 11s 24ms/step - loss: 1.3871 - accuracy: 0.7617\n",
            "Epoch 80/100\n",
            "484/484 [==============================] - 11s 24ms/step - loss: 1.3590 - accuracy: 0.7676\n",
            "Epoch 81/100\n",
            "484/484 [==============================] - 11s 24ms/step - loss: 1.3494 - accuracy: 0.7685\n",
            "Epoch 82/100\n",
            "484/484 [==============================] - 11s 24ms/step - loss: 1.3278 - accuracy: 0.7723\n",
            "Epoch 83/100\n",
            "484/484 [==============================] - 11s 24ms/step - loss: 1.3172 - accuracy: 0.7752\n",
            "Epoch 84/100\n",
            "484/484 [==============================] - 11s 24ms/step - loss: 1.2972 - accuracy: 0.7773\n",
            "Epoch 85/100\n",
            "484/484 [==============================] - 11s 24ms/step - loss: 1.2718 - accuracy: 0.7842\n",
            "Epoch 86/100\n",
            "484/484 [==============================] - 11s 24ms/step - loss: 1.2643 - accuracy: 0.7838\n",
            "Epoch 87/100\n",
            "484/484 [==============================] - 11s 24ms/step - loss: 1.2506 - accuracy: 0.7884\n",
            "Epoch 88/100\n",
            "484/484 [==============================] - 12s 24ms/step - loss: 1.2380 - accuracy: 0.7879\n",
            "Epoch 89/100\n",
            "484/484 [==============================] - 11s 24ms/step - loss: 1.2418 - accuracy: 0.7845\n",
            "Epoch 90/100\n",
            "484/484 [==============================] - 11s 24ms/step - loss: 1.2333 - accuracy: 0.7872\n",
            "Epoch 91/100\n",
            "484/484 [==============================] - 11s 24ms/step - loss: 1.2040 - accuracy: 0.7944\n",
            "Epoch 92/100\n",
            "484/484 [==============================] - 11s 24ms/step - loss: 1.1935 - accuracy: 0.7963\n",
            "Epoch 93/100\n",
            "484/484 [==============================] - 11s 24ms/step - loss: 1.1785 - accuracy: 0.7986\n",
            "Epoch 94/100\n",
            "484/484 [==============================] - 11s 24ms/step - loss: 1.1753 - accuracy: 0.7987\n",
            "Epoch 95/100\n",
            "484/484 [==============================] - 11s 24ms/step - loss: 1.1634 - accuracy: 0.7980\n",
            "Epoch 96/100\n",
            "484/484 [==============================] - 11s 23ms/step - loss: 1.1562 - accuracy: 0.8012\n",
            "Epoch 97/100\n",
            "484/484 [==============================] - 11s 24ms/step - loss: 1.1405 - accuracy: 0.8027\n",
            "Epoch 98/100\n",
            "484/484 [==============================] - 11s 24ms/step - loss: 1.1431 - accuracy: 0.8027\n",
            "Epoch 99/100\n",
            "484/484 [==============================] - 11s 24ms/step - loss: 1.1395 - accuracy: 0.8003\n",
            "Epoch 100/100\n",
            "484/484 [==============================] - 12s 24ms/step - loss: 1.1266 - accuracy: 0.8042\n"
          ]
        }
      ]
    },
    {
      "cell_type": "code",
      "metadata": {
        "id": "1fXTEO3GJ282",
        "outputId": "cac2fa53-912d-4936-9b8e-333941b55d37",
        "colab": {
          "base_uri": "https://localhost:8080/",
          "height": 545
        }
      },
      "source": [
        "import matplotlib.pyplot as plt\n",
        "acc = history.history['accuracy']\n",
        "loss = history.history['loss']\n",
        "\n",
        "epochs = range(len(acc))\n",
        "\n",
        "plt.plot(epochs, acc, 'b', label='Training accuracy')\n",
        "plt.title('Training accuracy')\n",
        "\n",
        "plt.figure()\n",
        "\n",
        "plt.plot(epochs, loss, 'b', label='Training Loss')\n",
        "plt.title('Training loss')\n",
        "plt.legend()\n",
        "\n",
        "plt.show()"
      ],
      "execution_count": null,
      "outputs": [
        {
          "output_type": "display_data",
          "data": {
            "image/png": "[encoded data removed]",
            "text/plain": [
              "<Figure size 432x288 with 1 Axes>"
            ]
          },
          "metadata": {
            "needs_background": "light"
          }
        },
        {
          "output_type": "display_data",
          "data": {
            "image/png": "[encoded data removed]",
            "text/plain": [
              "<Figure size 432x288 with 1 Axes>"
            ]
          },
          "metadata": {
            "needs_background": "light"
          }
        }
      ]
    },
    {
      "cell_type": "code",
      "metadata": {
        "id": "6Vc6PHgxa6Hm",
        "outputId": "6ee2c189-cdbd-41ab-db3a-3f244ebbe646",
        "colab": {
          "base_uri": "https://localhost:8080/",
          "height": 244
        }
      },
      "source": [
        "seed_text = \"Help me Obi Wan Kenobi, you're my only hope\"\n",
        "next_words = 100\n",
        "  \n",
        "for _ in range(next_words):\n",
        "\ttoken_list = tokenizer.texts_to_sequences([seed_text])[0]\n",
        "\ttoken_list = pad_sequences([token_list], maxlen=max_sequence_len-1, padding='pre')\n",
        "\tpredicted = model.predict_classes(token_list, verbose=0)\n",
        "\toutput_word = \"\"\n",
        "\tfor word, index in tokenizer.word_index.items():\n",
        "\t\tif index == predicted:\n",
        "\t\t\toutput_word = word\n",
        "\t\t\tbreak\n",
        "\tseed_text += \" \" + output_word\n",
        "print(seed_text)"
      ],
      "execution_count": null,
      "outputs": [
        {
          "output_type": "error",
          "ename": "AttributeError",
          "evalue": "ignored",
          "traceback": [
            "\u001b[0;31m---------------------------------------------------------------------------\u001b[0m",
            "\u001b[0;31mAttributeError\u001b[0m                            Traceback (most recent call last)",
            "\u001b[0;32m<ipython-input-10-622d307fa19a>\u001b[0m in \u001b[0;36m<module>\u001b[0;34m()\u001b[0m\n\u001b[1;32m      5\u001b[0m         \u001b[0mtoken_list\u001b[0m \u001b[0;34m=\u001b[0m \u001b[0mtokenizer\u001b[0m\u001b[0;34m.\u001b[0m\u001b[0mtexts_to_sequences\u001b[0m\u001b[0;34m(\u001b[0m\u001b[0;34m[\u001b[0m\u001b[0mseed_text\u001b[0m\u001b[0;34m]\u001b[0m\u001b[0;34m)\u001b[0m\u001b[0;34m[\u001b[0m\u001b[0;36m0\u001b[0m\u001b[0;34m]\u001b[0m\u001b[0;34m\u001b[0m\u001b[0;34m\u001b[0m\u001b[0m\n\u001b[1;32m      6\u001b[0m         \u001b[0mtoken_list\u001b[0m \u001b[0;34m=\u001b[0m \u001b[0mpad_sequences\u001b[0m\u001b[0;34m(\u001b[0m\u001b[0;34m[\u001b[0m\u001b[0mtoken_list\u001b[0m\u001b[0;34m]\u001b[0m\u001b[0;34m,\u001b[0m \u001b[0mmaxlen\u001b[0m\u001b[0;34m=\u001b[0m\u001b[0mmax_sequence_len\u001b[0m\u001b[0;34m-\u001b[0m\u001b[0;36m1\u001b[0m\u001b[0;34m,\u001b[0m \u001b[0mpadding\u001b[0m\u001b[0;34m=\u001b[0m\u001b[0;34m'pre'\u001b[0m\u001b[0;34m)\u001b[0m\u001b[0;34m\u001b[0m\u001b[0;34m\u001b[0m\u001b[0m\n\u001b[0;32m----> 7\u001b[0;31m         \u001b[0mpredicted\u001b[0m \u001b[0;34m=\u001b[0m \u001b[0mmodel\u001b[0m\u001b[0;34m.\u001b[0m\u001b[0mpredict_classes\u001b[0m\u001b[0;34m(\u001b[0m\u001b[0mtoken_list\u001b[0m\u001b[0;34m,\u001b[0m \u001b[0mverbose\u001b[0m\u001b[0;34m=\u001b[0m\u001b[0;36m0\u001b[0m\u001b[0;34m)\u001b[0m\u001b[0;34m\u001b[0m\u001b[0;34m\u001b[0m\u001b[0m\n\u001b[0m\u001b[1;32m      8\u001b[0m         \u001b[0moutput_word\u001b[0m \u001b[0;34m=\u001b[0m \u001b[0;34m\"\"\u001b[0m\u001b[0;34m\u001b[0m\u001b[0;34m\u001b[0m\u001b[0m\n\u001b[1;32m      9\u001b[0m         \u001b[0;32mfor\u001b[0m \u001b[0mword\u001b[0m\u001b[0;34m,\u001b[0m \u001b[0mindex\u001b[0m \u001b[0;32min\u001b[0m \u001b[0mtokenizer\u001b[0m\u001b[0;34m.\u001b[0m\u001b[0mword_index\u001b[0m\u001b[0;34m.\u001b[0m\u001b[0mitems\u001b[0m\u001b[0;34m(\u001b[0m\u001b[0;34m)\u001b[0m\u001b[0;34m:\u001b[0m\u001b[0;34m\u001b[0m\u001b[0;34m\u001b[0m\u001b[0m\n",
            "\u001b[0;31mAttributeError\u001b[0m: 'Sequential' object has no attribute 'predict_classes'"
          ]
        }
      ]
    }
  ]
}